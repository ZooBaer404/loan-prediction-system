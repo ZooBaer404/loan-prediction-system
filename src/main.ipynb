{
 "cells": [
  {
   "cell_type": "markdown",
   "id": "650f8be1",
   "metadata": {},
   "source": [
    "# Loan Prediction System"
   ]
  },
  {
   "cell_type": "code",
   "execution_count": 1,
   "id": "9ff1522b",
   "metadata": {},
   "outputs": [
    {
     "name": "stdout",
     "output_type": "stream",
     "text": [
      "Requirement already satisfied: imblearn in /home/zoobaer/Computers/Projects/ASystem/Loan-Prediction-System/.venv/lib64/python3.13/site-packages (0.0)\n",
      "Requirement already satisfied: imbalanced-learn in /home/zoobaer/Computers/Projects/ASystem/Loan-Prediction-System/.venv/lib64/python3.13/site-packages (from imblearn) (0.13.0)\n",
      "Requirement already satisfied: numpy<3,>=1.24.3 in /home/zoobaer/Computers/Projects/ASystem/Loan-Prediction-System/.venv/lib64/python3.13/site-packages (from imbalanced-learn->imblearn) (2.3.1)\n",
      "Requirement already satisfied: scipy<2,>=1.10.1 in /home/zoobaer/Computers/Projects/ASystem/Loan-Prediction-System/.venv/lib64/python3.13/site-packages (from imbalanced-learn->imblearn) (1.16.0)\n",
      "Requirement already satisfied: scikit-learn<2,>=1.3.2 in /home/zoobaer/Computers/Projects/ASystem/Loan-Prediction-System/.venv/lib64/python3.13/site-packages (from imbalanced-learn->imblearn) (1.6.1)\n",
      "Requirement already satisfied: sklearn-compat<1,>=0.1 in /home/zoobaer/Computers/Projects/ASystem/Loan-Prediction-System/.venv/lib64/python3.13/site-packages (from imbalanced-learn->imblearn) (0.1.3)\n",
      "Requirement already satisfied: joblib<2,>=1.1.1 in /home/zoobaer/Computers/Projects/ASystem/Loan-Prediction-System/.venv/lib64/python3.13/site-packages (from imbalanced-learn->imblearn) (1.5.1)\n",
      "Requirement already satisfied: threadpoolctl<4,>=2.0.0 in /home/zoobaer/Computers/Projects/ASystem/Loan-Prediction-System/.venv/lib64/python3.13/site-packages (from imbalanced-learn->imblearn) (3.6.0)\n",
      "Note: you may need to restart the kernel to use updated packages.\n"
     ]
    }
   ],
   "source": [
    "%pip install imblearn"
   ]
  },
  {
   "cell_type": "code",
   "execution_count": 2,
   "id": "8db77b1a",
   "metadata": {},
   "outputs": [],
   "source": [
    "import pandas as pd \n",
    "import numpy as np\n",
    "from sklearn.preprocessing import MinMaxScaler\n",
    "from sklearn.model_selection import train_test_split\n",
    "from sklearn.tree import DecisionTreeClassifier\n",
    "from sklearn.metrics import accuracy_score, classification_report, confusion_matrix\n",
    "from sklearn.ensemble import RandomForestClassifier\n",
    "from sklearn.metrics import classification_report, confusion_matrix, roc_auc_score\n",
    "from sklearn.model_selection import train_test_split\n",
    "\n",
    "import matplotlib.pyplot as plt\n",
    "import joblib\n",
    "import ipywidgets as widgets\n",
    "from IPython.display import display\n",
    "import tkinter as tk\n",
    "from tkinter import ttk, messagebox\n",
    "import pandas as pd"
   ]
  },
  {
   "cell_type": "code",
   "execution_count": 3,
   "id": "0d2643b9",
   "metadata": {},
   "outputs": [
    {
     "data": {
      "text/html": [
       "<div>\n",
       "<style scoped>\n",
       "    .dataframe tbody tr th:only-of-type {\n",
       "        vertical-align: middle;\n",
       "    }\n",
       "\n",
       "    .dataframe tbody tr th {\n",
       "        vertical-align: top;\n",
       "    }\n",
       "\n",
       "    .dataframe thead th {\n",
       "        text-align: right;\n",
       "    }\n",
       "</style>\n",
       "<table border=\"1\" class=\"dataframe\">\n",
       "  <thead>\n",
       "    <tr style=\"text-align: right;\">\n",
       "      <th></th>\n",
       "      <th>Loan_ID</th>\n",
       "      <th>Gender</th>\n",
       "      <th>Married</th>\n",
       "      <th>Dependents</th>\n",
       "      <th>Education</th>\n",
       "      <th>Self_Employed</th>\n",
       "      <th>ApplicantIncome</th>\n",
       "      <th>CoapplicantIncome</th>\n",
       "      <th>LoanAmount</th>\n",
       "      <th>Loan_Amount_Term</th>\n",
       "      <th>Credit_History</th>\n",
       "      <th>Property_Area</th>\n",
       "      <th>Loan_Status</th>\n",
       "    </tr>\n",
       "  </thead>\n",
       "  <tbody>\n",
       "    <tr>\n",
       "      <th>0</th>\n",
       "      <td>LP001002</td>\n",
       "      <td>Male</td>\n",
       "      <td>No</td>\n",
       "      <td>0</td>\n",
       "      <td>Graduate</td>\n",
       "      <td>No</td>\n",
       "      <td>5849</td>\n",
       "      <td>0.0</td>\n",
       "      <td>NaN</td>\n",
       "      <td>360.0</td>\n",
       "      <td>1.0</td>\n",
       "      <td>Urban</td>\n",
       "      <td>Y</td>\n",
       "    </tr>\n",
       "    <tr>\n",
       "      <th>1</th>\n",
       "      <td>LP001003</td>\n",
       "      <td>Male</td>\n",
       "      <td>Yes</td>\n",
       "      <td>1</td>\n",
       "      <td>Graduate</td>\n",
       "      <td>No</td>\n",
       "      <td>4583</td>\n",
       "      <td>1508.0</td>\n",
       "      <td>128.0</td>\n",
       "      <td>360.0</td>\n",
       "      <td>1.0</td>\n",
       "      <td>Rural</td>\n",
       "      <td>N</td>\n",
       "    </tr>\n",
       "    <tr>\n",
       "      <th>2</th>\n",
       "      <td>LP001005</td>\n",
       "      <td>Male</td>\n",
       "      <td>Yes</td>\n",
       "      <td>0</td>\n",
       "      <td>Graduate</td>\n",
       "      <td>Yes</td>\n",
       "      <td>3000</td>\n",
       "      <td>0.0</td>\n",
       "      <td>66.0</td>\n",
       "      <td>360.0</td>\n",
       "      <td>1.0</td>\n",
       "      <td>Urban</td>\n",
       "      <td>Y</td>\n",
       "    </tr>\n",
       "    <tr>\n",
       "      <th>3</th>\n",
       "      <td>LP001006</td>\n",
       "      <td>Male</td>\n",
       "      <td>Yes</td>\n",
       "      <td>0</td>\n",
       "      <td>Not Graduate</td>\n",
       "      <td>No</td>\n",
       "      <td>2583</td>\n",
       "      <td>2358.0</td>\n",
       "      <td>120.0</td>\n",
       "      <td>360.0</td>\n",
       "      <td>1.0</td>\n",
       "      <td>Urban</td>\n",
       "      <td>Y</td>\n",
       "    </tr>\n",
       "    <tr>\n",
       "      <th>4</th>\n",
       "      <td>LP001008</td>\n",
       "      <td>Male</td>\n",
       "      <td>No</td>\n",
       "      <td>0</td>\n",
       "      <td>Graduate</td>\n",
       "      <td>No</td>\n",
       "      <td>6000</td>\n",
       "      <td>0.0</td>\n",
       "      <td>141.0</td>\n",
       "      <td>360.0</td>\n",
       "      <td>1.0</td>\n",
       "      <td>Urban</td>\n",
       "      <td>Y</td>\n",
       "    </tr>\n",
       "  </tbody>\n",
       "</table>\n",
       "</div>"
      ],
      "text/plain": [
       "    Loan_ID Gender Married Dependents     Education Self_Employed  \\\n",
       "0  LP001002   Male      No          0      Graduate            No   \n",
       "1  LP001003   Male     Yes          1      Graduate            No   \n",
       "2  LP001005   Male     Yes          0      Graduate           Yes   \n",
       "3  LP001006   Male     Yes          0  Not Graduate            No   \n",
       "4  LP001008   Male      No          0      Graduate            No   \n",
       "\n",
       "   ApplicantIncome  CoapplicantIncome  LoanAmount  Loan_Amount_Term  \\\n",
       "0             5849                0.0         NaN             360.0   \n",
       "1             4583             1508.0       128.0             360.0   \n",
       "2             3000                0.0        66.0             360.0   \n",
       "3             2583             2358.0       120.0             360.0   \n",
       "4             6000                0.0       141.0             360.0   \n",
       "\n",
       "   Credit_History Property_Area Loan_Status  \n",
       "0             1.0         Urban           Y  \n",
       "1             1.0         Rural           N  \n",
       "2             1.0         Urban           Y  \n",
       "3             1.0         Urban           Y  \n",
       "4             1.0         Urban           Y  "
      ]
     },
     "execution_count": 3,
     "metadata": {},
     "output_type": "execute_result"
    }
   ],
   "source": [
    "data= pd.read_csv('../res/loan-dataset.csv')\n",
    "data.head()"
   ]
  },
  {
   "cell_type": "markdown",
   "id": "548ee171",
   "metadata": {},
   "source": [
    "\n",
    "## Data Cleaning\n",
    "\n",
    "### Finding NULL values count\n",
    "\n",
    "We should first see how many rows do we have that are null in each column"
   ]
  },
  {
   "cell_type": "code",
   "execution_count": 4,
   "id": "aa13a75c",
   "metadata": {},
   "outputs": [
    {
     "data": {
      "text/plain": [
       "Loan_ID               0\n",
       "Gender               13\n",
       "Married               3\n",
       "Dependents           15\n",
       "Education             0\n",
       "Self_Employed        32\n",
       "ApplicantIncome       0\n",
       "CoapplicantIncome     0\n",
       "LoanAmount           22\n",
       "Loan_Amount_Term     14\n",
       "Credit_History       50\n",
       "Property_Area         0\n",
       "Loan_Status           0\n",
       "dtype: int64"
      ]
     },
     "execution_count": 4,
     "metadata": {},
     "output_type": "execute_result"
    }
   ],
   "source": [
    "data.isnull().sum()"
   ]
  },
  {
   "cell_type": "markdown",
   "id": "074ffa51",
   "metadata": {},
   "source": [
    "Statistically speaking, we don't need to remove NULL values from these column because they don't have any or they are not so important for data processing:\n",
    "- Loan_ID\n",
    "- Education\n",
    "- ApplicantIncome\n",
    "- CoapplicantIncome\n",
    "- Property_Area\n",
    "- Loan_Status"
   ]
  },
  {
   "cell_type": "markdown",
   "id": "f9da64e8",
   "metadata": {},
   "source": [
    "### Filling in Missing Values\n",
    "\n",
    "We will fill the missing values for the columns as follows:\n",
    "\n",
    "* LoanAmount: median\n",
    "* Loan_Amount_Term: median\n",
    "* Gender: mode\n",
    "* Married: mode\n",
    "* Dependents: mode\n",
    "* Self_Employed: mode\n",
    "* Credit_History: mode"
   ]
  },
  {
   "cell_type": "markdown",
   "id": "bcbdf417",
   "metadata": {},
   "source": [
    "#### LoanAmount"
   ]
  },
  {
   "cell_type": "code",
   "execution_count": 5,
   "id": "912f1055",
   "metadata": {},
   "outputs": [
    {
     "name": "stdout",
     "output_type": "stream",
     "text": [
      "max:  700.0\n",
      "min:  9.0\n",
      "mean:  146.41216216216216\n",
      "median:  128.0\n",
      "standard deviation:  85.58732523570545\n"
     ]
    }
   ],
   "source": [
    "print(\"max: \", data['LoanAmount'].max())\n",
    "print(\"min: \", data['LoanAmount'].min())\n",
    "print(\"mean: \", data['LoanAmount'].mean())\n",
    "print(\"median: \", data['LoanAmount'].median())\n",
    "print(\"standard deviation: \", data['LoanAmount'].std())"
   ]
  },
  {
   "cell_type": "code",
   "execution_count": 6,
   "id": "4c7124d6",
   "metadata": {},
   "outputs": [
    {
     "name": "stderr",
     "output_type": "stream",
     "text": [
      "/tmp/ipykernel_9763/4230643855.py:1: FutureWarning: A value is trying to be set on a copy of a DataFrame or Series through chained assignment using an inplace method.\n",
      "The behavior will change in pandas 3.0. This inplace method will never work because the intermediate object on which we are setting values always behaves as a copy.\n",
      "\n",
      "For example, when doing 'df[col].method(value, inplace=True)', try using 'df.method({col: value}, inplace=True)' or df[col] = df[col].method(value) instead, to perform the operation inplace on the original object.\n",
      "\n",
      "\n",
      "  data['LoanAmount'].fillna(data['LoanAmount'].median(), inplace=True)\n"
     ]
    }
   ],
   "source": [
    "data['LoanAmount'].fillna(data['LoanAmount'].median(), inplace=True)"
   ]
  },
  {
   "cell_type": "markdown",
   "id": "fc85437e",
   "metadata": {},
   "source": [
    "#### Loan_Amount_Term"
   ]
  },
  {
   "cell_type": "code",
   "execution_count": 7,
   "id": "6fbfbdba",
   "metadata": {},
   "outputs": [
    {
     "name": "stdout",
     "output_type": "stream",
     "text": [
      "max:  480.0\n",
      "min:  12.0\n",
      "mean:  342.0\n",
      "median:  360.0\n",
      "standard deviation:  65.12040985461256\n"
     ]
    }
   ],
   "source": [
    "print(\"max: \", data['Loan_Amount_Term'].max())\n",
    "print(\"min: \", data['Loan_Amount_Term'].min())\n",
    "print(\"mean: \", data['Loan_Amount_Term'].mean())\n",
    "print(\"median: \", data['Loan_Amount_Term'].median())\n",
    "print(\"standard deviation: \", data['Loan_Amount_Term'].std())"
   ]
  },
  {
   "cell_type": "code",
   "execution_count": 8,
   "id": "9926c931",
   "metadata": {},
   "outputs": [
    {
     "name": "stderr",
     "output_type": "stream",
     "text": [
      "/tmp/ipykernel_9763/2180471732.py:1: FutureWarning: A value is trying to be set on a copy of a DataFrame or Series through chained assignment using an inplace method.\n",
      "The behavior will change in pandas 3.0. This inplace method will never work because the intermediate object on which we are setting values always behaves as a copy.\n",
      "\n",
      "For example, when doing 'df[col].method(value, inplace=True)', try using 'df.method({col: value}, inplace=True)' or df[col] = df[col].method(value) instead, to perform the operation inplace on the original object.\n",
      "\n",
      "\n",
      "  data['Loan_Amount_Term'].fillna(data['Loan_Amount_Term'].median(), inplace=True)\n"
     ]
    }
   ],
   "source": [
    "data['Loan_Amount_Term'].fillna(data['Loan_Amount_Term'].median(), inplace=True) "
   ]
  },
  {
   "cell_type": "markdown",
   "id": "3b3750bf",
   "metadata": {},
   "source": [
    "#### Categorical Column\n",
    "\n",
    "Mode of the columns are chosen."
   ]
  },
  {
   "cell_type": "code",
   "execution_count": 9,
   "id": "ded061ee",
   "metadata": {},
   "outputs": [
    {
     "name": "stderr",
     "output_type": "stream",
     "text": [
      "/tmp/ipykernel_9763/4185035625.py:1: FutureWarning: A value is trying to be set on a copy of a DataFrame or Series through chained assignment using an inplace method.\n",
      "The behavior will change in pandas 3.0. This inplace method will never work because the intermediate object on which we are setting values always behaves as a copy.\n",
      "\n",
      "For example, when doing 'df[col].method(value, inplace=True)', try using 'df.method({col: value}, inplace=True)' or df[col] = df[col].method(value) instead, to perform the operation inplace on the original object.\n",
      "\n",
      "\n",
      "  data['Gender'].fillna(data['Gender'].mode()[0], inplace=True)\n",
      "/tmp/ipykernel_9763/4185035625.py:2: FutureWarning: A value is trying to be set on a copy of a DataFrame or Series through chained assignment using an inplace method.\n",
      "The behavior will change in pandas 3.0. This inplace method will never work because the intermediate object on which we are setting values always behaves as a copy.\n",
      "\n",
      "For example, when doing 'df[col].method(value, inplace=True)', try using 'df.method({col: value}, inplace=True)' or df[col] = df[col].method(value) instead, to perform the operation inplace on the original object.\n",
      "\n",
      "\n",
      "  data['Married'].fillna(data['Married'].mode()[0], inplace=True)\n",
      "/tmp/ipykernel_9763/4185035625.py:3: FutureWarning: A value is trying to be set on a copy of a DataFrame or Series through chained assignment using an inplace method.\n",
      "The behavior will change in pandas 3.0. This inplace method will never work because the intermediate object on which we are setting values always behaves as a copy.\n",
      "\n",
      "For example, when doing 'df[col].method(value, inplace=True)', try using 'df.method({col: value}, inplace=True)' or df[col] = df[col].method(value) instead, to perform the operation inplace on the original object.\n",
      "\n",
      "\n",
      "  data['Dependents'].fillna(data['Dependents'].mode()[0], inplace=True)\n",
      "/tmp/ipykernel_9763/4185035625.py:4: FutureWarning: A value is trying to be set on a copy of a DataFrame or Series through chained assignment using an inplace method.\n",
      "The behavior will change in pandas 3.0. This inplace method will never work because the intermediate object on which we are setting values always behaves as a copy.\n",
      "\n",
      "For example, when doing 'df[col].method(value, inplace=True)', try using 'df.method({col: value}, inplace=True)' or df[col] = df[col].method(value) instead, to perform the operation inplace on the original object.\n",
      "\n",
      "\n",
      "  data['Self_Employed'].fillna(data['Self_Employed'].mode()[0], inplace=True)\n",
      "/tmp/ipykernel_9763/4185035625.py:5: FutureWarning: A value is trying to be set on a copy of a DataFrame or Series through chained assignment using an inplace method.\n",
      "The behavior will change in pandas 3.0. This inplace method will never work because the intermediate object on which we are setting values always behaves as a copy.\n",
      "\n",
      "For example, when doing 'df[col].method(value, inplace=True)', try using 'df.method({col: value}, inplace=True)' or df[col] = df[col].method(value) instead, to perform the operation inplace on the original object.\n",
      "\n",
      "\n",
      "  data['Credit_History'].fillna(data['Credit_History'].mode()[0], inplace=True)\n"
     ]
    }
   ],
   "source": [
    "data['Gender'].fillna(data['Gender'].mode()[0], inplace=True)\n",
    "data['Married'].fillna(data['Married'].mode()[0], inplace=True)\n",
    "data['Dependents'].fillna(data['Dependents'].mode()[0], inplace=True)\n",
    "data['Self_Employed'].fillna(data['Self_Employed'].mode()[0], inplace=True)\n",
    "data['Credit_History'].fillna(data['Credit_History'].mode()[0], inplace=True)"
   ]
  },
  {
   "cell_type": "markdown",
   "id": "b7dc285b",
   "metadata": {},
   "source": [
    "We will now check if NULL values are remove"
   ]
  },
  {
   "cell_type": "code",
   "execution_count": 10,
   "id": "d1389b44",
   "metadata": {},
   "outputs": [
    {
     "data": {
      "text/plain": [
       "Loan_ID              0\n",
       "Gender               0\n",
       "Married              0\n",
       "Dependents           0\n",
       "Education            0\n",
       "Self_Employed        0\n",
       "ApplicantIncome      0\n",
       "CoapplicantIncome    0\n",
       "LoanAmount           0\n",
       "Loan_Amount_Term     0\n",
       "Credit_History       0\n",
       "Property_Area        0\n",
       "Loan_Status          0\n",
       "dtype: int64"
      ]
     },
     "execution_count": 10,
     "metadata": {},
     "output_type": "execute_result"
    }
   ],
   "source": [
    "data.isnull().sum()"
   ]
  },
  {
   "cell_type": "markdown",
   "id": "111b6618",
   "metadata": {},
   "source": [
    "Yes, NULL values have been dealt with."
   ]
  },
  {
   "cell_type": "markdown",
   "id": "95857a59",
   "metadata": {},
   "source": [
    "### Duplicate Rows\n",
    "\n",
    "We should check if any duplicate rows exist."
   ]
  },
  {
   "cell_type": "code",
   "execution_count": 11,
   "id": "8ff82484",
   "metadata": {},
   "outputs": [
    {
     "name": "stdout",
     "output_type": "stream",
     "text": [
      "Number of duplicate rows: 0\n"
     ]
    }
   ],
   "source": [
    "duplicates = data.duplicated()\n",
    "print(f\"Number of duplicate rows: {duplicates.sum()}\")"
   ]
  },
  {
   "cell_type": "markdown",
   "id": "b2eaa365",
   "metadata": {},
   "source": [
    "No duplicate rows exist.\n",
    "We don't need to safeguard against it."
   ]
  },
  {
   "cell_type": "markdown",
   "id": "b86a6a87",
   "metadata": {},
   "source": [
    "### Generating Efficient Columns for AI Models\n",
    "\n",
    "Since AI models can't directly interpret text or categorical data, we can help make that efficient.\n",
    "\n",
    "We can transform the each category in the specified column into new binary columns.\n",
    "For example, if a category can only take two values like 'Gender' which takes 'Male' or 'Female', we can transform that into a boolean value.\n",
    "\n",
    "For example:\n",
    "Gender_Male: which can be 0 or 1 depending on the value.\n"
   ]
  },
  {
   "cell_type": "code",
   "execution_count": 12,
   "id": "dc32dea2",
   "metadata": {},
   "outputs": [
    {
     "name": "stdout",
     "output_type": "stream",
     "text": [
      "    Loan_ID  ApplicantIncome  CoapplicantIncome  LoanAmount  Loan_Amount_Term  \\\n",
      "0  LP001002             5849                0.0       128.0             360.0   \n",
      "1  LP001003             4583             1508.0       128.0             360.0   \n",
      "2  LP001005             3000                0.0        66.0             360.0   \n",
      "3  LP001006             2583             2358.0       120.0             360.0   \n",
      "4  LP001008             6000                0.0       141.0             360.0   \n",
      "\n",
      "   Credit_History Loan_Status  Gender_Male  Married_Yes  Dependents_1  \\\n",
      "0             1.0           Y         True        False         False   \n",
      "1             1.0           N         True         True          True   \n",
      "2             1.0           Y         True         True         False   \n",
      "3             1.0           Y         True         True         False   \n",
      "4             1.0           Y         True        False         False   \n",
      "\n",
      "   Dependents_2  Dependents_3+  Education_Not Graduate  Self_Employed_Yes  \\\n",
      "0         False          False                   False              False   \n",
      "1         False          False                   False              False   \n",
      "2         False          False                   False               True   \n",
      "3         False          False                    True              False   \n",
      "4         False          False                   False              False   \n",
      "\n",
      "   Property_Area_Semiurban  Property_Area_Urban  \n",
      "0                    False                 True  \n",
      "1                    False                False  \n",
      "2                    False                 True  \n",
      "3                    False                 True  \n",
      "4                    False                 True  \n"
     ]
    }
   ],
   "source": [
    "categorical_columns = ['Gender', 'Married', 'Dependents', 'Education', 'Self_Employed', 'Property_Area']\n",
    "data_encoded = pd.get_dummies(data, columns=categorical_columns, drop_first=True)\n",
    "print(data_encoded.head())"
   ]
  },
  {
   "cell_type": "markdown",
   "id": "3c593a62",
   "metadata": {},
   "source": [
    "### Removing Unnecessay Columns\n",
    "\n",
    "We should remove any column that is not useful for our computation:\n",
    "\n",
    "- Loan_ID"
   ]
  },
  {
   "cell_type": "code",
   "execution_count": 13,
   "id": "652e9741",
   "metadata": {},
   "outputs": [
    {
     "name": "stdout",
     "output_type": "stream",
     "text": [
      "Index(['ApplicantIncome', 'CoapplicantIncome', 'LoanAmount',\n",
      "       'Loan_Amount_Term', 'Credit_History', 'Loan_Status', 'Gender_Male',\n",
      "       'Married_Yes', 'Dependents_1', 'Dependents_2', 'Dependents_3+',\n",
      "       'Education_Not Graduate', 'Self_Employed_Yes',\n",
      "       'Property_Area_Semiurban', 'Property_Area_Urban'],\n",
      "      dtype='object')\n"
     ]
    }
   ],
   "source": [
    "data_encoded = data_encoded.drop(['Loan_ID'], axis=1)\n",
    "print(data_encoded.columns)"
   ]
  },
  {
   "cell_type": "markdown",
   "id": "c4f8255a",
   "metadata": {},
   "source": [
    "### Make Column Values More Comprehendable\n",
    "\n",
    "Instead of some values representing results, we can use words to describe them.\n",
    "\n",
    "* In Loan_Status, instead of 0 and 1, we can have 'yes' and 'no' to make them more comprehendable."
   ]
  },
  {
   "cell_type": "code",
   "execution_count": 14,
   "id": "cb775188",
   "metadata": {},
   "outputs": [
    {
     "name": "stdout",
     "output_type": "stream",
     "text": [
      "Loan_Status\n",
      "1    422\n",
      "0    192\n",
      "Name: count, dtype: int64\n"
     ]
    }
   ],
   "source": [
    "data_encoded['Loan_Status'] = data_encoded['Loan_Status'].map({'Y': 1, 'N': 0})\n",
    "print(data_encoded['Loan_Status'].value_counts())"
   ]
  },
  {
   "cell_type": "markdown",
   "id": "89fb8635",
   "metadata": {},
   "source": [
    "As we can see there are \n",
    "\n",
    "- 422 rows: 1 to 'yes'\n",
    "- 192 rows: 0 to 'no'"
   ]
  },
  {
   "cell_type": "markdown",
   "id": "6c3c92e9",
   "metadata": {},
   "source": [
    "### Adding New Features"
   ]
  },
  {
   "cell_type": "code",
   "execution_count": 15,
   "id": "c0cf6657",
   "metadata": {},
   "outputs": [],
   "source": [
    "# Merge engineered features into encoded dataset\n",
    "data_encoded['TotalIncome'] = data['ApplicantIncome'] + data['CoapplicantIncome']\n",
    "data_encoded['EMI'] = data['LoanAmount'] / data['Loan_Amount_Term']\n",
    "data_encoded['BalanceIncome'] = data_encoded['TotalIncome'] - data_encoded['EMI']\n",
    "data_encoded['LoanToIncome'] = data['LoanAmount'] / data_encoded['TotalIncome']\n",
    "data_encoded['IncomePerDependent'] = data_encoded['TotalIncome'] / (data['Dependents'].replace('3+', 3).astype(int) + 1)\n",
    "data_encoded['LoanAmount_log'] = np.log(data['LoanAmount'] + 1)\n",
    "data_encoded['TotalIncome_log'] = np.log(data_encoded['TotalIncome'] + 1)"
   ]
  },
  {
   "cell_type": "markdown",
   "id": "635dae33",
   "metadata": {},
   "source": [
    "We can now remove the first column of the dataset."
   ]
  },
  {
   "cell_type": "code",
   "execution_count": 16,
   "id": "5923d1cd",
   "metadata": {},
   "outputs": [],
   "source": [
    "X = data_encoded.drop(['Loan_Status'], axis=1)\n",
    "y = data_encoded['Loan_Status']"
   ]
  },
  {
   "cell_type": "markdown",
   "id": "12160e1e",
   "metadata": {},
   "source": [
    "#### Split Data into Training and Testing\n",
    "\n",
    "We train the model with 491 features and test the model with 123 features."
   ]
  },
  {
   "cell_type": "code",
   "execution_count": 17,
   "id": "1bbd4951",
   "metadata": {},
   "outputs": [
    {
     "name": "stdout",
     "output_type": "stream",
     "text": [
      "Training features shape: (491, 21)\n",
      "Testing features shape: (123, 21)\n"
     ]
    }
   ],
   "source": [
    "X_train, X_test, y_train, y_test = train_test_split(X, y, test_size=0.2, random_state=42, stratify=y)\n",
    "\n",
    "print(\"Training features shape:\", X_train.shape)\n",
    "print(\"Testing features shape:\", X_test.shape)"
   ]
  },
  {
   "cell_type": "markdown",
   "id": "334afdca",
   "metadata": {},
   "source": [
    "## Training the Model"
   ]
  },
  {
   "cell_type": "markdown",
   "id": "8d640286",
   "metadata": {},
   "source": [
    "### Random Forest\n",
    "\n",
    "RandomForest is a supervised machine learning model, used for classification tasks - it predicts categories or labels.\n",
    "We will now train the model using our training data using the RandomForest machine learning model."
   ]
  },
  {
   "cell_type": "code",
   "execution_count": 18,
   "id": "eca08fc9",
   "metadata": {},
   "outputs": [
    {
     "data": {
      "text/html": [
       "<style>#sk-container-id-1 {\n",
       "  /* Definition of color scheme common for light and dark mode */\n",
       "  --sklearn-color-text: #000;\n",
       "  --sklearn-color-text-muted: #666;\n",
       "  --sklearn-color-line: gray;\n",
       "  /* Definition of color scheme for unfitted estimators */\n",
       "  --sklearn-color-unfitted-level-0: #fff5e6;\n",
       "  --sklearn-color-unfitted-level-1: #f6e4d2;\n",
       "  --sklearn-color-unfitted-level-2: #ffe0b3;\n",
       "  --sklearn-color-unfitted-level-3: chocolate;\n",
       "  /* Definition of color scheme for fitted estimators */\n",
       "  --sklearn-color-fitted-level-0: #f0f8ff;\n",
       "  --sklearn-color-fitted-level-1: #d4ebff;\n",
       "  --sklearn-color-fitted-level-2: #b3dbfd;\n",
       "  --sklearn-color-fitted-level-3: cornflowerblue;\n",
       "\n",
       "  /* Specific color for light theme */\n",
       "  --sklearn-color-text-on-default-background: var(--sg-text-color, var(--theme-code-foreground, var(--jp-content-font-color1, black)));\n",
       "  --sklearn-color-background: var(--sg-background-color, var(--theme-background, var(--jp-layout-color0, white)));\n",
       "  --sklearn-color-border-box: var(--sg-text-color, var(--theme-code-foreground, var(--jp-content-font-color1, black)));\n",
       "  --sklearn-color-icon: #696969;\n",
       "\n",
       "  @media (prefers-color-scheme: dark) {\n",
       "    /* Redefinition of color scheme for dark theme */\n",
       "    --sklearn-color-text-on-default-background: var(--sg-text-color, var(--theme-code-foreground, var(--jp-content-font-color1, white)));\n",
       "    --sklearn-color-background: var(--sg-background-color, var(--theme-background, var(--jp-layout-color0, #111)));\n",
       "    --sklearn-color-border-box: var(--sg-text-color, var(--theme-code-foreground, var(--jp-content-font-color1, white)));\n",
       "    --sklearn-color-icon: #878787;\n",
       "  }\n",
       "}\n",
       "\n",
       "#sk-container-id-1 {\n",
       "  color: var(--sklearn-color-text);\n",
       "}\n",
       "\n",
       "#sk-container-id-1 pre {\n",
       "  padding: 0;\n",
       "}\n",
       "\n",
       "#sk-container-id-1 input.sk-hidden--visually {\n",
       "  border: 0;\n",
       "  clip: rect(1px 1px 1px 1px);\n",
       "  clip: rect(1px, 1px, 1px, 1px);\n",
       "  height: 1px;\n",
       "  margin: -1px;\n",
       "  overflow: hidden;\n",
       "  padding: 0;\n",
       "  position: absolute;\n",
       "  width: 1px;\n",
       "}\n",
       "\n",
       "#sk-container-id-1 div.sk-dashed-wrapped {\n",
       "  border: 1px dashed var(--sklearn-color-line);\n",
       "  margin: 0 0.4em 0.5em 0.4em;\n",
       "  box-sizing: border-box;\n",
       "  padding-bottom: 0.4em;\n",
       "  background-color: var(--sklearn-color-background);\n",
       "}\n",
       "\n",
       "#sk-container-id-1 div.sk-container {\n",
       "  /* jupyter's `normalize.less` sets `[hidden] { display: none; }`\n",
       "     but bootstrap.min.css set `[hidden] { display: none !important; }`\n",
       "     so we also need the `!important` here to be able to override the\n",
       "     default hidden behavior on the sphinx rendered scikit-learn.org.\n",
       "     See: https://github.com/scikit-learn/scikit-learn/issues/21755 */\n",
       "  display: inline-block !important;\n",
       "  position: relative;\n",
       "}\n",
       "\n",
       "#sk-container-id-1 div.sk-text-repr-fallback {\n",
       "  display: none;\n",
       "}\n",
       "\n",
       "div.sk-parallel-item,\n",
       "div.sk-serial,\n",
       "div.sk-item {\n",
       "  /* draw centered vertical line to link estimators */\n",
       "  background-image: linear-gradient(var(--sklearn-color-text-on-default-background), var(--sklearn-color-text-on-default-background));\n",
       "  background-size: 2px 100%;\n",
       "  background-repeat: no-repeat;\n",
       "  background-position: center center;\n",
       "}\n",
       "\n",
       "/* Parallel-specific style estimator block */\n",
       "\n",
       "#sk-container-id-1 div.sk-parallel-item::after {\n",
       "  content: \"\";\n",
       "  width: 100%;\n",
       "  border-bottom: 2px solid var(--sklearn-color-text-on-default-background);\n",
       "  flex-grow: 1;\n",
       "}\n",
       "\n",
       "#sk-container-id-1 div.sk-parallel {\n",
       "  display: flex;\n",
       "  align-items: stretch;\n",
       "  justify-content: center;\n",
       "  background-color: var(--sklearn-color-background);\n",
       "  position: relative;\n",
       "}\n",
       "\n",
       "#sk-container-id-1 div.sk-parallel-item {\n",
       "  display: flex;\n",
       "  flex-direction: column;\n",
       "}\n",
       "\n",
       "#sk-container-id-1 div.sk-parallel-item:first-child::after {\n",
       "  align-self: flex-end;\n",
       "  width: 50%;\n",
       "}\n",
       "\n",
       "#sk-container-id-1 div.sk-parallel-item:last-child::after {\n",
       "  align-self: flex-start;\n",
       "  width: 50%;\n",
       "}\n",
       "\n",
       "#sk-container-id-1 div.sk-parallel-item:only-child::after {\n",
       "  width: 0;\n",
       "}\n",
       "\n",
       "/* Serial-specific style estimator block */\n",
       "\n",
       "#sk-container-id-1 div.sk-serial {\n",
       "  display: flex;\n",
       "  flex-direction: column;\n",
       "  align-items: center;\n",
       "  background-color: var(--sklearn-color-background);\n",
       "  padding-right: 1em;\n",
       "  padding-left: 1em;\n",
       "}\n",
       "\n",
       "\n",
       "/* Toggleable style: style used for estimator/Pipeline/ColumnTransformer box that is\n",
       "clickable and can be expanded/collapsed.\n",
       "- Pipeline and ColumnTransformer use this feature and define the default style\n",
       "- Estimators will overwrite some part of the style using the `sk-estimator` class\n",
       "*/\n",
       "\n",
       "/* Pipeline and ColumnTransformer style (default) */\n",
       "\n",
       "#sk-container-id-1 div.sk-toggleable {\n",
       "  /* Default theme specific background. It is overwritten whether we have a\n",
       "  specific estimator or a Pipeline/ColumnTransformer */\n",
       "  background-color: var(--sklearn-color-background);\n",
       "}\n",
       "\n",
       "/* Toggleable label */\n",
       "#sk-container-id-1 label.sk-toggleable__label {\n",
       "  cursor: pointer;\n",
       "  display: flex;\n",
       "  width: 100%;\n",
       "  margin-bottom: 0;\n",
       "  padding: 0.5em;\n",
       "  box-sizing: border-box;\n",
       "  text-align: center;\n",
       "  align-items: start;\n",
       "  justify-content: space-between;\n",
       "  gap: 0.5em;\n",
       "}\n",
       "\n",
       "#sk-container-id-1 label.sk-toggleable__label .caption {\n",
       "  font-size: 0.6rem;\n",
       "  font-weight: lighter;\n",
       "  color: var(--sklearn-color-text-muted);\n",
       "}\n",
       "\n",
       "#sk-container-id-1 label.sk-toggleable__label-arrow:before {\n",
       "  /* Arrow on the left of the label */\n",
       "  content: \"▸\";\n",
       "  float: left;\n",
       "  margin-right: 0.25em;\n",
       "  color: var(--sklearn-color-icon);\n",
       "}\n",
       "\n",
       "#sk-container-id-1 label.sk-toggleable__label-arrow:hover:before {\n",
       "  color: var(--sklearn-color-text);\n",
       "}\n",
       "\n",
       "/* Toggleable content - dropdown */\n",
       "\n",
       "#sk-container-id-1 div.sk-toggleable__content {\n",
       "  max-height: 0;\n",
       "  max-width: 0;\n",
       "  overflow: hidden;\n",
       "  text-align: left;\n",
       "  /* unfitted */\n",
       "  background-color: var(--sklearn-color-unfitted-level-0);\n",
       "}\n",
       "\n",
       "#sk-container-id-1 div.sk-toggleable__content.fitted {\n",
       "  /* fitted */\n",
       "  background-color: var(--sklearn-color-fitted-level-0);\n",
       "}\n",
       "\n",
       "#sk-container-id-1 div.sk-toggleable__content pre {\n",
       "  margin: 0.2em;\n",
       "  border-radius: 0.25em;\n",
       "  color: var(--sklearn-color-text);\n",
       "  /* unfitted */\n",
       "  background-color: var(--sklearn-color-unfitted-level-0);\n",
       "}\n",
       "\n",
       "#sk-container-id-1 div.sk-toggleable__content.fitted pre {\n",
       "  /* unfitted */\n",
       "  background-color: var(--sklearn-color-fitted-level-0);\n",
       "}\n",
       "\n",
       "#sk-container-id-1 input.sk-toggleable__control:checked~div.sk-toggleable__content {\n",
       "  /* Expand drop-down */\n",
       "  max-height: 200px;\n",
       "  max-width: 100%;\n",
       "  overflow: auto;\n",
       "}\n",
       "\n",
       "#sk-container-id-1 input.sk-toggleable__control:checked~label.sk-toggleable__label-arrow:before {\n",
       "  content: \"▾\";\n",
       "}\n",
       "\n",
       "/* Pipeline/ColumnTransformer-specific style */\n",
       "\n",
       "#sk-container-id-1 div.sk-label input.sk-toggleable__control:checked~label.sk-toggleable__label {\n",
       "  color: var(--sklearn-color-text);\n",
       "  background-color: var(--sklearn-color-unfitted-level-2);\n",
       "}\n",
       "\n",
       "#sk-container-id-1 div.sk-label.fitted input.sk-toggleable__control:checked~label.sk-toggleable__label {\n",
       "  background-color: var(--sklearn-color-fitted-level-2);\n",
       "}\n",
       "\n",
       "/* Estimator-specific style */\n",
       "\n",
       "/* Colorize estimator box */\n",
       "#sk-container-id-1 div.sk-estimator input.sk-toggleable__control:checked~label.sk-toggleable__label {\n",
       "  /* unfitted */\n",
       "  background-color: var(--sklearn-color-unfitted-level-2);\n",
       "}\n",
       "\n",
       "#sk-container-id-1 div.sk-estimator.fitted input.sk-toggleable__control:checked~label.sk-toggleable__label {\n",
       "  /* fitted */\n",
       "  background-color: var(--sklearn-color-fitted-level-2);\n",
       "}\n",
       "\n",
       "#sk-container-id-1 div.sk-label label.sk-toggleable__label,\n",
       "#sk-container-id-1 div.sk-label label {\n",
       "  /* The background is the default theme color */\n",
       "  color: var(--sklearn-color-text-on-default-background);\n",
       "}\n",
       "\n",
       "/* On hover, darken the color of the background */\n",
       "#sk-container-id-1 div.sk-label:hover label.sk-toggleable__label {\n",
       "  color: var(--sklearn-color-text);\n",
       "  background-color: var(--sklearn-color-unfitted-level-2);\n",
       "}\n",
       "\n",
       "/* Label box, darken color on hover, fitted */\n",
       "#sk-container-id-1 div.sk-label.fitted:hover label.sk-toggleable__label.fitted {\n",
       "  color: var(--sklearn-color-text);\n",
       "  background-color: var(--sklearn-color-fitted-level-2);\n",
       "}\n",
       "\n",
       "/* Estimator label */\n",
       "\n",
       "#sk-container-id-1 div.sk-label label {\n",
       "  font-family: monospace;\n",
       "  font-weight: bold;\n",
       "  display: inline-block;\n",
       "  line-height: 1.2em;\n",
       "}\n",
       "\n",
       "#sk-container-id-1 div.sk-label-container {\n",
       "  text-align: center;\n",
       "}\n",
       "\n",
       "/* Estimator-specific */\n",
       "#sk-container-id-1 div.sk-estimator {\n",
       "  font-family: monospace;\n",
       "  border: 1px dotted var(--sklearn-color-border-box);\n",
       "  border-radius: 0.25em;\n",
       "  box-sizing: border-box;\n",
       "  margin-bottom: 0.5em;\n",
       "  /* unfitted */\n",
       "  background-color: var(--sklearn-color-unfitted-level-0);\n",
       "}\n",
       "\n",
       "#sk-container-id-1 div.sk-estimator.fitted {\n",
       "  /* fitted */\n",
       "  background-color: var(--sklearn-color-fitted-level-0);\n",
       "}\n",
       "\n",
       "/* on hover */\n",
       "#sk-container-id-1 div.sk-estimator:hover {\n",
       "  /* unfitted */\n",
       "  background-color: var(--sklearn-color-unfitted-level-2);\n",
       "}\n",
       "\n",
       "#sk-container-id-1 div.sk-estimator.fitted:hover {\n",
       "  /* fitted */\n",
       "  background-color: var(--sklearn-color-fitted-level-2);\n",
       "}\n",
       "\n",
       "/* Specification for estimator info (e.g. \"i\" and \"?\") */\n",
       "\n",
       "/* Common style for \"i\" and \"?\" */\n",
       "\n",
       ".sk-estimator-doc-link,\n",
       "a:link.sk-estimator-doc-link,\n",
       "a:visited.sk-estimator-doc-link {\n",
       "  float: right;\n",
       "  font-size: smaller;\n",
       "  line-height: 1em;\n",
       "  font-family: monospace;\n",
       "  background-color: var(--sklearn-color-background);\n",
       "  border-radius: 1em;\n",
       "  height: 1em;\n",
       "  width: 1em;\n",
       "  text-decoration: none !important;\n",
       "  margin-left: 0.5em;\n",
       "  text-align: center;\n",
       "  /* unfitted */\n",
       "  border: var(--sklearn-color-unfitted-level-1) 1pt solid;\n",
       "  color: var(--sklearn-color-unfitted-level-1);\n",
       "}\n",
       "\n",
       ".sk-estimator-doc-link.fitted,\n",
       "a:link.sk-estimator-doc-link.fitted,\n",
       "a:visited.sk-estimator-doc-link.fitted {\n",
       "  /* fitted */\n",
       "  border: var(--sklearn-color-fitted-level-1) 1pt solid;\n",
       "  color: var(--sklearn-color-fitted-level-1);\n",
       "}\n",
       "\n",
       "/* On hover */\n",
       "div.sk-estimator:hover .sk-estimator-doc-link:hover,\n",
       ".sk-estimator-doc-link:hover,\n",
       "div.sk-label-container:hover .sk-estimator-doc-link:hover,\n",
       ".sk-estimator-doc-link:hover {\n",
       "  /* unfitted */\n",
       "  background-color: var(--sklearn-color-unfitted-level-3);\n",
       "  color: var(--sklearn-color-background);\n",
       "  text-decoration: none;\n",
       "}\n",
       "\n",
       "div.sk-estimator.fitted:hover .sk-estimator-doc-link.fitted:hover,\n",
       ".sk-estimator-doc-link.fitted:hover,\n",
       "div.sk-label-container:hover .sk-estimator-doc-link.fitted:hover,\n",
       ".sk-estimator-doc-link.fitted:hover {\n",
       "  /* fitted */\n",
       "  background-color: var(--sklearn-color-fitted-level-3);\n",
       "  color: var(--sklearn-color-background);\n",
       "  text-decoration: none;\n",
       "}\n",
       "\n",
       "/* Span, style for the box shown on hovering the info icon */\n",
       ".sk-estimator-doc-link span {\n",
       "  display: none;\n",
       "  z-index: 9999;\n",
       "  position: relative;\n",
       "  font-weight: normal;\n",
       "  right: .2ex;\n",
       "  padding: .5ex;\n",
       "  margin: .5ex;\n",
       "  width: min-content;\n",
       "  min-width: 20ex;\n",
       "  max-width: 50ex;\n",
       "  color: var(--sklearn-color-text);\n",
       "  box-shadow: 2pt 2pt 4pt #999;\n",
       "  /* unfitted */\n",
       "  background: var(--sklearn-color-unfitted-level-0);\n",
       "  border: .5pt solid var(--sklearn-color-unfitted-level-3);\n",
       "}\n",
       "\n",
       ".sk-estimator-doc-link.fitted span {\n",
       "  /* fitted */\n",
       "  background: var(--sklearn-color-fitted-level-0);\n",
       "  border: var(--sklearn-color-fitted-level-3);\n",
       "}\n",
       "\n",
       ".sk-estimator-doc-link:hover span {\n",
       "  display: block;\n",
       "}\n",
       "\n",
       "/* \"?\"-specific style due to the `<a>` HTML tag */\n",
       "\n",
       "#sk-container-id-1 a.estimator_doc_link {\n",
       "  float: right;\n",
       "  font-size: 1rem;\n",
       "  line-height: 1em;\n",
       "  font-family: monospace;\n",
       "  background-color: var(--sklearn-color-background);\n",
       "  border-radius: 1rem;\n",
       "  height: 1rem;\n",
       "  width: 1rem;\n",
       "  text-decoration: none;\n",
       "  /* unfitted */\n",
       "  color: var(--sklearn-color-unfitted-level-1);\n",
       "  border: var(--sklearn-color-unfitted-level-1) 1pt solid;\n",
       "}\n",
       "\n",
       "#sk-container-id-1 a.estimator_doc_link.fitted {\n",
       "  /* fitted */\n",
       "  border: var(--sklearn-color-fitted-level-1) 1pt solid;\n",
       "  color: var(--sklearn-color-fitted-level-1);\n",
       "}\n",
       "\n",
       "/* On hover */\n",
       "#sk-container-id-1 a.estimator_doc_link:hover {\n",
       "  /* unfitted */\n",
       "  background-color: var(--sklearn-color-unfitted-level-3);\n",
       "  color: var(--sklearn-color-background);\n",
       "  text-decoration: none;\n",
       "}\n",
       "\n",
       "#sk-container-id-1 a.estimator_doc_link.fitted:hover {\n",
       "  /* fitted */\n",
       "  background-color: var(--sklearn-color-fitted-level-3);\n",
       "}\n",
       "</style><div id=\"sk-container-id-1\" class=\"sk-top-container\"><div class=\"sk-text-repr-fallback\"><pre>RandomForestClassifier(class_weight=&#x27;balanced&#x27;, max_depth=10, n_estimators=200,\n",
       "                       random_state=42)</pre><b>In a Jupyter environment, please rerun this cell to show the HTML representation or trust the notebook. <br />On GitHub, the HTML representation is unable to render, please try loading this page with nbviewer.org.</b></div><div class=\"sk-container\" hidden><div class=\"sk-item\"><div class=\"sk-estimator fitted sk-toggleable\"><input class=\"sk-toggleable__control sk-hidden--visually\" id=\"sk-estimator-id-1\" type=\"checkbox\" checked><label for=\"sk-estimator-id-1\" class=\"sk-toggleable__label fitted sk-toggleable__label-arrow\"><div><div>RandomForestClassifier</div></div><div><a class=\"sk-estimator-doc-link fitted\" rel=\"noreferrer\" target=\"_blank\" href=\"https://scikit-learn.org/1.6/modules/generated/sklearn.ensemble.RandomForestClassifier.html\">?<span>Documentation for RandomForestClassifier</span></a><span class=\"sk-estimator-doc-link fitted\">i<span>Fitted</span></span></div></label><div class=\"sk-toggleable__content fitted\"><pre>RandomForestClassifier(class_weight=&#x27;balanced&#x27;, max_depth=10, n_estimators=200,\n",
       "                       random_state=42)</pre></div> </div></div></div></div>"
      ],
      "text/plain": [
       "RandomForestClassifier(class_weight='balanced', max_depth=10, n_estimators=200,\n",
       "                       random_state=42)"
      ]
     },
     "execution_count": 18,
     "metadata": {},
     "output_type": "execute_result"
    }
   ],
   "source": [
    "final_model = RandomForestClassifier(\n",
    "    n_estimators=200,\n",
    "    max_depth=10,\n",
    "    class_weight='balanced',\n",
    "    random_state=42\n",
    ")\n",
    "final_model.fit(X_train, y_train)"
   ]
  },
  {
   "cell_type": "markdown",
   "id": "db62ec07",
   "metadata": {},
   "source": [
    "Why 42? because we want to control the randomness of the model and to give more consistent results."
   ]
  },
  {
   "cell_type": "markdown",
   "id": "ab9a82d4",
   "metadata": {},
   "source": [
    "### Testing the Model\n",
    "\n",
    "We will now test the model with the testing data."
   ]
  },
  {
   "cell_type": "code",
   "execution_count": 19,
   "id": "0e1be4f2",
   "metadata": {},
   "outputs": [],
   "source": [
    "\n",
    "y_pred_final = final_model.predict(X_test)\n",
    "y_proba = final_model.predict_proba(X_test)[:, 1]"
   ]
  },
  {
   "cell_type": "markdown",
   "id": "5f7cd609",
   "metadata": {},
   "source": [
    "### Information from the Training"
   ]
  },
  {
   "cell_type": "code",
   "execution_count": 20,
   "id": "5773a6ca",
   "metadata": {},
   "outputs": [
    {
     "name": "stdout",
     "output_type": "stream",
     "text": [
      "Classification Report:\n",
      "               precision    recall  f1-score   support\n",
      "\n",
      "           0       0.88      0.74      0.80        38\n",
      "           1       0.89      0.95      0.92        85\n",
      "\n",
      "    accuracy                           0.89       123\n",
      "   macro avg       0.88      0.84      0.86       123\n",
      "weighted avg       0.89      0.89      0.88       123\n",
      "\n",
      "Confusion Matrix:\n",
      " [[28 10]\n",
      " [ 4 81]]\n",
      "ROC AUC Score: 0.8572755417956657\n"
     ]
    }
   ],
   "source": [
    "accuracy = accuracy_score(y_test, y_pred_final)\n",
    "\n",
    "print(\"Classification Report:\\n\", classification_report(y_test, y_pred_final))\n",
    "print(\"Confusion Matrix:\\n\", confusion_matrix(y_test, y_pred_final))\n",
    "print(\"ROC AUC Score:\", roc_auc_score(y_test, y_proba))"
   ]
  },
  {
   "cell_type": "markdown",
   "id": "4ecf5041",
   "metadata": {},
   "source": [
    "_The model's accuracy is 78 precent_"
   ]
  },
  {
   "cell_type": "code",
   "execution_count": 21,
   "id": "e9ce379d",
   "metadata": {},
   "outputs": [
    {
     "data": {
      "image/png": "[encoded data removed]",
      "text/plain": [
       "<Figure size 1200x600 with 1 Axes>"
      ]
     },
     "metadata": {},
     "output_type": "display_data"
    }
   ],
   "source": [
    "importances = final_model.feature_importances_\n",
    "indices = np.argsort(importances)[::-1]\n",
    "plt.figure(figsize=(12, 6))\n",
    "plt.title(\"Feature Importances\")\n",
    "plt.bar(range(X.shape[1]), importances[indices], align='center')\n",
    "plt.xticks(range(X.shape[1]), X.columns[indices], rotation=90)\n",
    "plt.tight_layout()\n",
    "plt.show()"
   ]
  },
  {
   "cell_type": "markdown",
   "id": "a4a871db",
   "metadata": {},
   "source": [
    "### Output\n",
    "\n",
    "We can now use this knowledge to our advantage.\n",
    "As we can see from the real world, credit history actually is important. If someone doesn't have a good credit history, they will be denied their loan."
   ]
  },
  {
   "cell_type": "markdown",
   "id": "2df99c29",
   "metadata": {},
   "source": [
    "### Storing the Model in Disk\n",
    "\n",
    "We will dump the model onto the disk and load it to ensure it reusable across different applications"
   ]
  },
  {
   "cell_type": "code",
   "execution_count": 22,
   "id": "94087757",
   "metadata": {},
   "outputs": [
    {
     "data": {
      "text/plain": [
       "['loan_prediction_model.pkl']"
      ]
     },
     "execution_count": 22,
     "metadata": {},
     "output_type": "execute_result"
    }
   ],
   "source": [
    "joblib.dump(final_model, \"loan_prediction_model.pkl\")"
   ]
  },
  {
   "cell_type": "markdown",
   "id": "0769b67d",
   "metadata": {},
   "source": [
    "The model has been stored on the disk!!!"
   ]
  },
  {
   "cell_type": "markdown",
   "id": "f097102e",
   "metadata": {},
   "source": [
    "### Loading the Model\n",
    "\n",
    "We will now load the model from the disk."
   ]
  },
  {
   "cell_type": "code",
   "execution_count": 23,
   "id": "3ac503a9",
   "metadata": {},
   "outputs": [
    {
     "name": "stdout",
     "output_type": "stream",
     "text": [
      "['ApplicantIncome' 'CoapplicantIncome' 'LoanAmount' 'Loan_Amount_Term'\n",
      " 'Credit_History' 'Gender_Male' 'Married_Yes' 'Dependents_1'\n",
      " 'Dependents_2' 'Dependents_3+' 'Education_Not Graduate'\n",
      " 'Self_Employed_Yes' 'Property_Area_Semiurban' 'Property_Area_Urban'\n",
      " 'TotalIncome' 'EMI' 'BalanceIncome' 'LoanToIncome' 'IncomePerDependent'\n",
      " 'LoanAmount_log' 'TotalIncome_log']\n"
     ]
    }
   ],
   "source": [
    "loaded_model = joblib.load(\"loan_prediction_model.pkl\")\n",
    "print(loaded_model.feature_names_in_)"
   ]
  },
  {
   "cell_type": "markdown",
   "id": "e0c3e6ef",
   "metadata": {},
   "source": [
    "### Getting Input about User\n",
    "\n",
    "We will ask the user for information that is relevant for the model."
   ]
  },
  {
   "cell_type": "code",
   "execution_count": 24,
   "id": "3e2b8017",
   "metadata": {},
   "outputs": [],
   "source": [
    "# Expected column order\n",
    "expected_columns = [\n",
    "    'ApplicantIncome', 'CoapplicantIncome', 'LoanAmount',\n",
    "    'Loan_Amount_Term', 'Credit_History', 'Gender_Male',\n",
    "    'Married_Yes', 'Dependents_1', 'Dependents_2', 'Dependents_3+',\n",
    "    'Education_Not Graduate', 'Self_Employed_Yes',\n",
    "    'Property_Area_Semiurban', 'Property_Area_Urban',\n",
    "    'TotalIncome', 'EMI', 'BalanceIncome', 'LoanToIncome',\n",
    "    'IncomePerDependent', 'LoanAmount_log', 'TotalIncome_log'\n",
    "]\n",
    "\n",
    "\n",
    "def submit():\n",
    "    try:\n",
    "        gender = gender_var.get().lower()\n",
    "        married = married_var.get().lower()\n",
    "        education = education_var.get().lower()\n",
    "        property_area = property_area_var.get().lower()\n",
    "        credit_history = credit_var.get().lower()\n",
    "        dependents = dependents_var.get()\n",
    "        self_employed = self_emp_var.get().lower()\n",
    "\n",
    "        loan_amount = int(loan_amount_var.get())\n",
    "        income = int(income_var.get())\n",
    "        coapp_income = int(coapp_income_var.get())\n",
    "        \n",
    "        total_income = income + coapp_income\n",
    "        emi = loan_amount / 360\n",
    "        balance_income = total_income - emi\n",
    "        loan_to_income = loan_amount / total_income if total_income != 0 else 0\n",
    "        dependents_numeric = 3 if dependents == '3+' else int(dependents)\n",
    "        income_per_dep = total_income / (dependents_numeric + 1)\n",
    "        loanamount_log = np.log(loan_amount + 1)\n",
    "        totalincome_log = np.log(total_income + 1)\n",
    "\n",
    "        user_data = pd.DataFrame({\n",
    "            'Gender_Male': [1 if gender == 'male' else 0],\n",
    "            'Married_Yes': [1 if married == 'yes' else 0],\n",
    "            'Education_Not Graduate': [1 if education == 'not graduated' else 0],\n",
    "            'Property_Area_Semiurban': [1 if property_area == 'semiurban' else 0],\n",
    "            'Property_Area_Urban': [1 if property_area == 'urban' else 0],\n",
    "            'Credit_History': [1 if credit_history == 'yes' else 0],\n",
    "            'Self_Employed_Yes': [1 if self_employed == 'yes' else 0],\n",
    "            'Dependents_1': [1 if dependents == '1' else 0],\n",
    "            'Dependents_2': [1 if dependents == '2' else 0],\n",
    "            'Dependents_3+': [1 if dependents == '3+' else 0],\n",
    "            'ApplicantIncome': [income],\n",
    "            'CoapplicantIncome': [coapp_income],\n",
    "            'LoanAmount': [loan_amount],\n",
    "            'Loan_Amount_Term': [360],\n",
    "            'TotalIncome': [total_income],\n",
    "            'EMI': [emi],\n",
    "            'BalanceIncome': [balance_income],\n",
    "            'LoanToIncome': [loan_to_income],\n",
    "            'IncomePerDependent': [income_per_dep],\n",
    "            'LoanAmount_log': [loanamount_log],\n",
    "            'TotalIncome_log': [totalincome_log]\n",
    "        })\n",
    "\n",
    "        for col in expected_columns:\n",
    "            if col not in user_data.columns:\n",
    "                user_data[col] = 0\n",
    "\n",
    "        user_data = user_data[expected_columns]\n",
    "\n",
    "        prediction = loaded_model.predict(user_data)\n",
    "        prob = loaded_model.predict_proba(user_data)\n",
    "\n",
    "        result_text = \"Loan Approved\" if prediction[0] == 1 else \"Loan Rejected\"\n",
    "        probability_text = f\"Approval Probability: {prob[0][1]:.2f}\"\n",
    "\n",
    "        result_label.config(text=result_text)\n",
    "        prob_label.config(text=probability_text)\n",
    "\n",
    "    except ValueError:\n",
    "        messagebox.showerror(\"Input Error\", \"Please enter valid numeric values for income and loan amount.\")\n",
    "\n",
    "# Tkinter GUI\n",
    "root = tk.Tk()\n",
    "root.title(\"Loan Approval Prediction\")\n",
    "root.geometry(\"400x550\")\n",
    "\n",
    "# Variables\n",
    "gender_var = tk.StringVar()\n",
    "married_var = tk.StringVar()\n",
    "education_var = tk.StringVar()\n",
    "property_area_var = tk.StringVar()\n",
    "credit_var = tk.StringVar()\n",
    "loan_amount_var = tk.StringVar()\n",
    "income_var = tk.StringVar()\n",
    "coapp_income_var = tk.StringVar()\n",
    "dependents_var = tk.StringVar()\n",
    "self_emp_var = tk.StringVar()\n",
    "\n",
    "\n",
    "\n",
    "# Widgets\n",
    "fields = [\n",
    "    (\"Gender\", gender_var, [\"Male\", \"Female\"]),\n",
    "    (\"Married\", married_var, [\"Yes\", \"No\"]),\n",
    "    (\"Education\", education_var, [\"Graduated\", \"Not Graduated\"]),\n",
    "    (\"Property Area\", property_area_var, [\"Urban\", \"Rural\", \"Semiurban\"]),\n",
    "    (\"Credit History\", credit_var, [\"Yes\", \"No\"]),\n",
    "    (\"Dependents\", dependents_var, [\"0\", \"1\", \"2\", \"3+\"]),\n",
    "    (\"Self Employed\", self_emp_var, [\"Yes\", \"No\"])\n",
    "]\n",
    "\n",
    "row = 0\n",
    "for label, var, options in fields:\n",
    "    tk.Label(root, text=label).grid(row=row, column=0, sticky=\"w\", padx=10, pady=5)\n",
    "    ttk.Combobox(root, textvariable=var, values=options, state=\"readonly\").grid(row=row, column=1, padx=10)\n",
    "    row += 1\n",
    "\n",
    "tk.Label(root, text=\"Applicant Income\").grid(row=row, column=0, sticky=\"w\", padx=10, pady=5)\n",
    "tk.Entry(root, textvariable=income_var).grid(row=row, column=1, padx=10)\n",
    "row += 1\n",
    "\n",
    "tk.Label(root, text=\"Coapplicant Income\").grid(row=row, column=0, sticky=\"w\", padx=10, pady=5)\n",
    "tk.Entry(root, textvariable=coapp_income_var).grid(row=row, column=1, padx=10)\n",
    "row += 1\n",
    "\n",
    "tk.Label(root, text=\"Loan Amount\").grid(row=row, column=0, sticky=\"w\", padx=10, pady=5)\n",
    "tk.Entry(root, textvariable=loan_amount_var).grid(row=row, column=1, padx=10)\n",
    "row += 1\n",
    "\n",
    "tk.Button(root, text=\"Submit\", command=submit).grid(row=row, column=0, columnspan=2, pady=20)\n",
    "\n",
    "result_label = tk.Label(root, text=\"\", font=(\"Arial\", 12, \"bold\"))\n",
    "result_label.grid(row=row+1, column=0, columnspan=2)\n",
    "\n",
    "prob_label = tk.Label(root, text=\"\", font=(\"Arial\", 10))\n",
    "prob_label.grid(row=row+2, column=0, columnspan=2)\n",
    "\n",
    "root.mainloop()"
   ]
  },
  {
   "cell_type": "markdown",
   "id": "4fbebb4f",
   "metadata": {},
   "source": [
    "#### Insights Observed\n",
    "\n",
    "- Education: Someone who is not graduated has a higher likelihood of paying their loan\n",
    "    Maybe it is because graduated students have their own loan to pay for university.\n",
    "\n",
    "- Dependents: If you have 1 dependent, lower likelihook. 2 a bit higher, 3 lower.\n",
    "    How???\n",
    "\n",
    "- Credit History: By far, the most important feature. Every single bank looks as your credit history.\n",
    "- SelfEmployment: It doesn't have any affect of the output.\n",
    "- Married: If you have married, the likelihood of you getting the loan is higher.\n",
    "- Gender: It doesn't have any effect on the output."
   ]
  }
 ],
 "metadata": {
  "kernelspec": {
   "display_name": ".venv",
   "language": "python",
   "name": "python3"
  },
  "language_info": {
   "codemirror_mode": {
    "name": "ipython",
    "version": 3
   },
   "file_extension": ".py",
   "mimetype": "text/x-python",
   "name": "python",
   "nbconvert_exporter": "python",
   "pygments_lexer": "ipython3",
   "version": "3.13.5"
  }
 },
 "nbformat": 4,
 "nbformat_minor": 5
}
